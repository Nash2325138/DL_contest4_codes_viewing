{
 "cells": [
  {
   "cell_type": "markdown",
   "metadata": {},
   "source": [
    "# Contest 4 Report\n",
    "\n",
    "Team Members:\n",
    "- 103062240 蔡宗宇\n",
    "- 103062224 劉哲宇\n",
    "- 103062101 陳孜宇\n",
    "\n",
    "Here is the [codes](https://github.com/Nash2325138/DL_contest4_codes_viewing) for TA to view.\n",
    "\n",
    "----"
   ]
  },
  {
   "cell_type": "markdown",
   "metadata": {},
   "source": [
    "In the begining of the contest, we trace through the given sample code and run it to see its performance. The result is not satisfying.\n",
    "\n",
    "So we start to try many experiment and gradually modify our model according to the result of experiment."
   ]
  },
  {
   "cell_type": "markdown",
   "metadata": {},
   "source": [
    "Here are what we've done and we'll introduce each of them on the following paragraphs:\n",
    "- Change architectures of G and D\n",
    "- Use pretrained SpaCy word embedding in TextEncoder\n",
    "- Add gradient penalty to d_loss\n",
    "- Get more captions per images (and shuffle)\n",
    "- Add 'wrong images with false label' to train with D\n",
    "- Random distortion to images\n",
    "- Use pretrained thought vector (encode sentence and store them to use)"
   ]
  },
  {
   "cell_type": "markdown",
   "metadata": {},
   "source": [
    "# Change architectures of G and D\n",
    "We changed the generator and discriminator according to the following architecture according to [the repo](https://github.com/paarthneekhara/text-to-image).\n",
    "<img src=\"files/network.jpg\">\n",
    "\n",
    "Since the original model in given code is too simple and it doesn't perform well, we change them using some more complex architecture (CNN and reverse CNN).\n",
    "\n",
    "Also, we add the information (the \"meaning\" of the caption) to both generator and discriminator network to make them learn what the caption means."
   ]
  },
  {
   "cell_type": "markdown",
   "metadata": {},
   "source": [
    "# Use pretrained SpaCy word embedding in TextEncoder\n",
    "\n",
    "We use pretrained word vectors fro spaCy.\n",
    "- For each word in given dictionary, find the corresponding word vector.\n",
    "- Replace the word embedding matrix (random initalized one) to the one we generated.\n",
    "- Let it be fine-tuned during whole training process."
   ]
  },
  {
   "cell_type": "markdown",
   "metadata": {},
   "source": [
    "# Add gradient penalty to loss of discriminator\n",
    "For the model of given code, the training process is **not stable** and frequently encounter the problem of **mode collapse**. For example:\n",
    "#### <center> Train with no gradient penalty (85 epoch)</center>\n",
    "<img src=\"files/train_85.png\">\n",
    "#### <center> Train with no gradient penalty (90 epoch)</center>\n",
    "<img src=\"files/train_90.png\">"
   ]
  },
  {
   "cell_type": "markdown",
   "metadata": {},
   "source": [
    "To solve it, we add gradient penalty based on the idea of WGAN-GP to disctiminator's loss to make training process more stable."
   ]
  },
  {
   "cell_type": "code",
   "execution_count": null,
   "metadata": {
    "collapsed": true
   },
   "outputs": [],
   "source": [
    "    # ---------------------- gradient_penalty ---------------------- #\n",
    "            self.GP_lambda = self.hparas['GP_lambda']\n",
    "            epsilon = tf.random_uniform(\n",
    "                shape=(tf.shape(self.generator.outputs)[0], 1, 1, 1),\n",
    "                minval=0,\n",
    "                maxval=1\n",
    "            )\n",
    "            x_hat = epsilon * self.generator.outputs + (1.0 - epsilon) * self.real_image\n",
    "            gradients = tf.gradients(\n",
    "                Discriminator(\n",
    "                    x_hat,\n",
    "                    self.text_encoder.outputs,\n",
    "                    training_phase=True,\n",
    "                    hparas=self.hparas,\n",
    "                    reuse=True\n",
    "                ).logits,\n",
    "                [x_hat]\n",
    "            )\n",
    "            gradient_penalty = self.GP_lambda * tf.square(tf.norm(gradients[0], ord=2) - 1.0)\n",
    "            self.d_loss += gradient_penalty\n",
    "    # ---------------------- gradient_penalty ---------------------- #"
   ]
  },
  {
   "cell_type": "markdown",
   "metadata": {},
   "source": [
    "After adding it, our training become much more stable:\n",
    "### <center> Train with gradient penalty (85 epoch)</center>\n",
    "<img src=\"files/WGAN_GP_1_caps_295.png\">"
   ]
  },
  {
   "cell_type": "markdown",
   "metadata": {},
   "source": [
    "# Get more captions per image (and shuffle)\n",
    "The given code only randomly choose one caption per image, which may not utalize the dataset well. Hence, we modify data_iterator to do following task:\n",
    "- Randomly choose 3~5 captions for each picture (if we choose all captions, the training set is so large that it takes long time to train).\n",
    "- Shuffle the whole training set.\n",
    "\n",
    "The following shows the code of how we accomplish it some training result:"
   ]
  },
  {
   "cell_type": "code",
   "execution_count": null,
   "metadata": {
    "collapsed": true
   },
   "outputs": [],
   "source": [
    "def data_iterator(filenames, batch_size, data_generator, shuffle_buffer=None,\n",
    "                  augmentation=False, number_use_captions=1):\n",
    "    # Load the training data into two NumPy arrays\n",
    "    df = pd.read_pickle(filenames)\n",
    "\n",
    "    image_path, caption = [], []\n",
    "    for row in df.iterrows():\n",
    "        caps = row[1]['Captions']\n",
    "        path = row[1]['ImagePath']\n",
    "        num_to_choose = min(number_use_captions, len(caps))\n",
    "        caption.extend(random.sample(caps, num_to_choose))\n",
    "        image_path.extend([path for _ in range(num_to_choose)])\n",
    "    image_path = np.asarray(image_path)\n",
    "    caption = np.asarray(caption)\n",
    "    \n",
    "    # shuffle dataset to prevent consective same image due to num_to_choose >= 2\n",
    "    shuffle_index = np.random.permutation(len(image_path))\n",
    "    image_path = image_path[shuffle_index]\n",
    "    caption = caption[shuffle_index]\n",
    "    \n",
    "\n",
    "    # Assume that each row of `features` corresponds to the same row as `labels`.\n",
    "    assert caption.shape[0] == image_path.shape[0]\n",
    "\n",
    "    dataset = tf.data.Dataset.from_tensor_slices((caption, image_path))\n",
    "    dataset = dataset.repeat()\n",
    "    if shuffle_buffer is not None:\n",
    "        dataset = dataset.shuffle(shuffle_buffer)\n",
    "    dataset = dataset.map(data_generator)\n",
    "    dataset = dataset.batch(batch_size)\n",
    "\n",
    "    iterator = dataset.make_initializable_iterator()\n",
    "    output_types = dataset.output_types\n",
    "    output_shapes = dataset.output_shapes\n",
    "\n",
    "    return iterator, output_types, output_shapes\n"
   ]
  },
  {
   "cell_type": "markdown",
   "metadata": {},
   "source": [
    "### <center> Using 1 caption per image to train for 250 epoch with gradient penalty</center>\n",
    "<img src=\"files/WGAN_GP_1_caps_250.png\">\n",
    "\n",
    "### <center> Using 5 captions per image to train for 50 epoch with gradient penalty</center>\n",
    "<img src=\"files/WGAN_GP_5_caps_50.png\">\n",
    "\n",
    "We can see that model using only 1 caption per image can generate nice pictures but **not related to the given text** and have **various type and color** even if they are given the same text (The same row use the same text description):\n",
    "\n",
    "We expect that using more captions per image will make our TextEncoder learn how to interpret data better, however, it seems not really solve this problem as you can see for the second example."
   ]
  },
  {
   "cell_type": "markdown",
   "metadata": {},
   "source": [
    "# Add 'wrong images'\n",
    "In order to really solve the problem stated above, we add 'wrong image with false label' to train with D.\n",
    "That is, give a caption and a random image from dataset, and give it false label.\n",
    "(To let D learn whether the image has relation with the caption.)\n",
    "After applying this, our score improved a little.\n",
    "What we do is:\n",
    "- For each caption, random pick a picture from given training dataset.\n",
    "- Thus, our model has 3 input nodes:\n",
    "    - Caption\n",
    "    - Real image\n",
    "    - Wrong image\n",
    "\n",
    "Below is the result before and after we add wrong images into the network.\n",
    "Although they seems both not good enough, we had little improvement on the score.\n",
    "\n",
    "*Without Wrong Images (200 epoch)*\n",
    "<img src=\"files/no_wrong_example.png\">\n",
    "*With Wrong Images (200 epoch)*\n",
    "<img src=\"files/wrong_example.png\">"
   ]
  },
  {
   "cell_type": "markdown",
   "metadata": {},
   "source": [
    "# Random distortion to images\n",
    "\n",
    "We try to random distort the image before feed it to the model, for example, flip left-right, random brightness. We didn't try so many operation here because the caption may contain some words related to color (for example, a \"red\" flower), we can't apply any operation that may change the color of the image.\n",
    "What we did:\n",
    "- Randomly flip left/right\n",
    "- Random brightness\n",
    "\n",
    "But the training result isn't so good (the sample output is very weird)."
   ]
  },
  {
   "cell_type": "markdown",
   "metadata": {},
   "source": [
    "# Use pretrained Skip Thought vector\n",
    "Since our TextEncoder model can hardly learn the meaning of text and generate almost random flowers for the same text, we want to use some other pretrain sentence to vector models to replace TextEncoder.\n",
    "\n",
    "Since [the repo](https://github.com/paarthneekhara/text-to-image) gives pretty results of this task, we decide to try if its method: using Skip Thought vector to encode captions.\n",
    "\n",
    "### Skip Thought Vector\n",
    "Skip Thought Vector is a sentence encoder model proposed by [this paper](https://arxiv.org/abs/1506.06726), and they also released their implementation and pretrained model in the [github repo](https://github.com/ryankiros/skip-thoughts). Hence, by following the instructions of its repository we can install and make use of it for our task.\n",
    "\n",
    "### Encode the training/testing dataset and sample descriptions\n",
    "Note that the code given by authors of Skip Thought Vector was written in Python 2. Also, loading the model and encoding sentences by it are slow and cost unignorable memory, so we decided to encode the training/testing dataset and sample descriptions beforehand rather than when every time we need to use them.\n",
    "\n",
    "The following code is how we encode and transform the test data, and it's the similar process for other dataset."
   ]
  },
  {
   "cell_type": "code",
   "execution_count": null,
   "metadata": {
    "collapsed": true
   },
   "outputs": [],
   "source": [
    "import pandas as pd\n",
    "import numpy as np\n",
    "import skipthoughts\n",
    "\n",
    "\n",
    "dictionary_path = '../../dictionary'\n",
    "id2word_dict = dict(np.load(dictionary_path + '/id2Word.npy'))\n",
    "\n",
    "data_path = '../../dataset'\n",
    "df = pd.read_csv(data_path + '/testData.csv', index_col=0)\n",
    "caps = df['Captions'].values\n",
    "caps = [eval(cap) for cap in caps]\n",
    "caps = [[id2word_dict[word] for word in cap if id2word_dict[word] != '<PAD>'] for cap in caps]\n",
    "caps = [' '.join(cap) for cap in caps]\n",
    "\n",
    "model = skipthoughts.load_model()\n",
    "encoder = skipthoughts.Encoder(model)\n",
    "\n",
    "test_caps_4800 = encoder.encode(caps)\n",
    "np.save('../../dataset/test_captions_4800.npy', test_caps_4800)"
   ]
  },
  {
   "cell_type": "markdown",
   "metadata": {},
   "source": [
    "Note that we process the output .npy file into .pkl using python 3 before we use it, because:\n",
    "1. The transformed training data may be too large for numpy array to fit in memory (unlike testing data, training data are parted into several segment to process), so we want to use it as a python list.\n",
    "2. The reason why we didn't store .pkl directly is that there are some protocal conflics of pickle between Python 2 and 3.\n",
    "\n",
    "\n",
    "Then, to use the transformed data, we need to\n",
    "### 1. Modify data_iterator (iterator of test data is similar)"
   ]
  },
  {
   "cell_type": "code",
   "execution_count": null,
   "metadata": {
    "collapsed": true
   },
   "outputs": [],
   "source": [
    "with open('./dataset/thought_front2400.pkl', 'rb') as f:\n",
    "    thought_caps = pickle.load(f)\n",
    "\n",
    "def data_iterator(filenames, batch_size, data_generator, shuffle_buffer=None,\n",
    "                  augmentation=False, number_use_captions=1):\n",
    "    # Load the training data into two NumPy arrays\n",
    "    df = pd.read_pickle(filenames)\n",
    "    caption = []\n",
    "    image_path = []\n",
    "    for i, row in enumerate(df.iterrows()):\n",
    "        index = row[0]\n",
    "        caps = list(thought_caps[i])\n",
    "        path = row[1]['ImagePath']\n",
    "        num_to_choose = min(number_use_captions, len(caps))\n",
    "        caption.extend(random.sample(caps, num_to_choose))\n",
    "        image_path.extend([path for _ in range(num_to_choose)])\n",
    "    image_path = np.asarray(image_path)\n",
    "    caption = np.asarray(caption)\n",
    "    \n",
    "    # shuffle dataset to prevent consective same image due to num_to_choose >= 2\n",
    "    shuffle_index = np.random.permutation(len(image_path))\n",
    "    image_path = image_path[shuffle_index]\n",
    "    caption = caption[shuffle_index]\n",
    "    \n",
    "\n",
    "    # Assume that each row of `features` corresponds to the same row as `labels`.\n",
    "    assert caption.shape[0] == image_path.shape[0]\n",
    "\n",
    "    dataset = tf.data.Dataset.from_tensor_slices((caption, image_path))\n",
    "    dataset = dataset.repeat()\n",
    "    if shuffle_buffer is not None:\n",
    "        dataset = dataset.shuffle(shuffle_buffer)\n",
    "    dataset = dataset.map(data_generator)\n",
    "    dataset = dataset.batch(batch_size)\n",
    "\n",
    "    iterator = dataset.make_initializable_iterator()\n",
    "    output_types = dataset.output_types\n",
    "    output_shapes = dataset.output_shapes\n",
    "\n",
    "    return iterator, output_types, output_shapes"
   ]
  },
  {
   "cell_type": "markdown",
   "metadata": {},
   "source": [
    "### 2. Remove TextEncoder\n",
    "In order not to change lots of codes in the models, I just make TextEncoder.output=text directly and build a garbage node to make saver have something to save."
   ]
  },
  {
   "cell_type": "code",
   "execution_count": null,
   "metadata": {
    "collapsed": true
   },
   "outputs": [],
   "source": [
    "class TextEncoder:\n",
    "    \"\"\"\n",
    "      Encode text (a caption) into hidden representation\n",
    "      input: text (a list of id)\n",
    "      output: hidden representation of input text in dimention of TEXT_DIM\n",
    "    \"\"\"\n",
    "\n",
    "    def __init__(self,\n",
    "                 text,\n",
    "                 hparas,\n",
    "                 training_phase=True,\n",
    "                 reuse=False,\n",
    "                 return_embed=False):\n",
    "        self.reuse = reuse\n",
    "        self._build_model()\n",
    "        self.outputs = text\n",
    "\n",
    "    def _build_model(self):\n",
    "        with tf.variable_scope('rnnftxt', reuse=self.reuse):\n",
    "            garbage = tf.Variable(\n",
    "                initial_value=0,\n",
    "                trainable=True,\n",
    "                name='useless_garbage'\n",
    "            )"
   ]
  },
  {
   "cell_type": "markdown",
   "metadata": {},
   "source": [
    "### 3.Change the type of input placeholder\n",
    "Because the original input captions have size 20 and type int, we need to change the placeholder declaration inside the GAN model like:"
   ]
  },
  {
   "cell_type": "code",
   "execution_count": null,
   "metadata": {
    "collapsed": true
   },
   "outputs": [],
   "source": [
    "self.caption = tf.placeholder(\n",
    "    dtype=tf.float32,\n",
    "    shape=[self.hparas['BATCH_SIZE'], 2400],\n",
    "    name='caption'\n",
    ")"
   ]
  },
  {
   "cell_type": "markdown",
   "metadata": {},
   "source": [
    "### Result\n",
    "Here is some sample outputs to visualize the effect of using Skip Thought Vector\n",
    "\n",
    "### <center> 3 captions per image, unit skip thought vector, with gradient penalty, 120 epoch</center>\n",
    "<img src=\"files/thought_120.png\">\n",
    "\n",
    "### <center> 3 captions per image, unit skip thought vector, with gradient penalty, 270 epoch</center>\n",
    "<img src=\"files/thought_270.png\">\n",
    "\n",
    "From the pictures above, we can see the outputs at the same row are finally similar and related to the text, especially the general color of petals (Some details like central pistil are not generated for most case, thought) The score on kaggle gets significant improvement after we use Skip Thought Vector.\n",
    "\n",
    "Note that we just use the first 2400 dimention of skip vector which corresbonding the sentence generated by uni-skip model. The part of the bi-skip model (last 2400 dimention) was tried, but we ran out of the time of competition before our model reach stable status."
   ]
  },
  {
   "cell_type": "markdown",
   "metadata": {},
   "source": [
    "# Demo"
   ]
  },
  {
   "cell_type": "markdown",
   "metadata": {},
   "source": [
    "this flower has petal that are yellow with black stamen\n",
    "<img src=\"demo/liu/inference_5875.png\">\n",
    "\n",
    "this flower has petal that are white with a small stigma\n",
    "<img src=\"demo/liu/inference_6107.png\">\n",
    "\n",
    "this flower has a few bright pink petal that turn more white in the center\n",
    "<img src=\"demo/liu/inference_5655.png\">\n",
    "\n",
    "this flower has petal that are orang with yellow center'\n",
    "<img src=\"demo/liu/inference_5184.png\">\n",
    "\n",
    "a flower with white petal and a with yellow stamen'\n",
    "<img src=\"demo/liu/inference_6234.png\">\n",
    "\n",
    "The demo examples above are extracted from test data.\n",
    "\n",
    "By the way, when we generate these examples' origin texts from ids, we found that there are a lot of misspelled words (lots of 'e' disappear)... they probably come from the wrong transformation between word2id and id2word.\n",
    "\n",
    "This might make skip thought encode the sentence wrongly and affect the training process."
   ]
  },
  {
   "cell_type": "markdown",
   "metadata": {},
   "source": [
    "## A bug we found\n",
    "Because we add our codes based on example code, we found there is a problem in example code."
   ]
  },
  {
   "cell_type": "code",
   "execution_count": null,
   "metadata": {
    "collapsed": true
   },
   "outputs": [],
   "source": [
    "for _step in range(n_batch_epoch):\n",
    "    step_time = time.time()\n",
    "    image_batch, caption_batch = self.sess.run(\n",
    "        self.iterator_train.get_next())"
   ]
  },
  {
   "cell_type": "markdown",
   "metadata": {},
   "source": [
    "For each execution of `self.iterator_train.get_next()`, there is a node been added into the tensorflow graph.\n",
    "Thus, the memory used will increase during the training process.\n",
    "If the training process takes long time, it may leed to resource exhaustion.\n",
    "\n",
    "A simple fix it is just let it be executed only once (like other codes given in the lab)."
   ]
  },
  {
   "cell_type": "code",
   "execution_count": null,
   "metadata": {
    "collapsed": true
   },
   "outputs": [],
   "source": [
    "next_element = self.iterator_train.get_next()\n",
    "for ......\n",
    "    image_batch, caption_batch = self.sess.run(next_element)"
   ]
  },
  {
   "cell_type": "markdown",
   "metadata": {},
   "source": [
    "# Conclusion\n",
    "1. After listening to the winners' sharing and discussing with others after compitition, we think that our model can get better if we use stackGAN.\n",
    "2. We learn that we should survey more to see what techniques are used in other's work before just adding something what we guess will work, because the competition time is short, and those work can usually bring great improvement."
   ]
  },
  {
   "cell_type": "code",
   "execution_count": null,
   "metadata": {
    "collapsed": true
   },
   "outputs": [],
   "source": []
  }
 ],
 "metadata": {
  "kernelspec": {
   "display_name": "Python 3",
   "language": "python",
   "name": "python3"
  },
  "language_info": {
   "codemirror_mode": {
    "name": "ipython",
    "version": 3
   },
   "file_extension": ".py",
   "mimetype": "text/x-python",
   "name": "python",
   "nbconvert_exporter": "python",
   "pygments_lexer": "ipython3",
   "version": "3.6.2"
  }
 },
 "nbformat": 4,
 "nbformat_minor": 2
}
